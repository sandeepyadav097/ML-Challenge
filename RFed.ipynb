{
 "cells": [
  {
   "cell_type": "code",
   "execution_count": 1,
   "metadata": {
    "collapsed": true
   },
   "outputs": [],
   "source": [
    "import numpy as np\n",
    "import pandas as pd\n"
   ]
  },
  {
   "cell_type": "code",
   "execution_count": 2,
   "metadata": {
    "collapsed": true
   },
   "outputs": [],
   "source": [
    "df1=pd.read_csv('train.csv')\n",
    "df2=pd.read_csv('test.csv')"
   ]
  },
  {
   "cell_type": "code",
   "execution_count": 3,
   "metadata": {
    "collapsed": true
   },
   "outputs": [],
   "source": [
    "X_train=df1[['Observation', 'T1', 'RH_1', 'T2', 'RH_2', 'T3', 'RH_3', 'T4', 'RH_4',\n",
    "       'T5', 'RH_5', 'T6', 'RH_6', 'T7', 'RH_7', 'T8', 'RH_8', 'T9', 'RH_9',\n",
    "       'T_out', 'Press_mm_hg', 'RH_out', 'Windspeed', 'Visibility',\n",
    "       'Tdewpoint']]"
   ]
  },
  {
   "cell_type": "code",
   "execution_count": 4,
   "metadata": {
    "collapsed": true
   },
   "outputs": [],
   "source": [
    "Y_train=df1['Energy']"
   ]
  },
  {
   "cell_type": "code",
   "execution_count": 5,
   "metadata": {},
   "outputs": [
    {
     "data": {
      "text/html": [
       "<div>\n",
       "<style>\n",
       "    .dataframe thead tr:only-child th {\n",
       "        text-align: right;\n",
       "    }\n",
       "\n",
       "    .dataframe thead th {\n",
       "        text-align: left;\n",
       "    }\n",
       "\n",
       "    .dataframe tbody tr th {\n",
       "        vertical-align: top;\n",
       "    }\n",
       "</style>\n",
       "<table border=\"1\" class=\"dataframe\">\n",
       "  <thead>\n",
       "    <tr style=\"text-align: right;\">\n",
       "      <th></th>\n",
       "      <th>Observation</th>\n",
       "      <th>T1</th>\n",
       "      <th>RH_1</th>\n",
       "      <th>T2</th>\n",
       "      <th>RH_2</th>\n",
       "      <th>T3</th>\n",
       "      <th>RH_3</th>\n",
       "      <th>T4</th>\n",
       "      <th>RH_4</th>\n",
       "      <th>T5</th>\n",
       "      <th>...</th>\n",
       "      <th>T8</th>\n",
       "      <th>RH_8</th>\n",
       "      <th>T9</th>\n",
       "      <th>RH_9</th>\n",
       "      <th>T_out</th>\n",
       "      <th>Press_mm_hg</th>\n",
       "      <th>RH_out</th>\n",
       "      <th>Windspeed</th>\n",
       "      <th>Visibility</th>\n",
       "      <th>Tdewpoint</th>\n",
       "    </tr>\n",
       "  </thead>\n",
       "  <tbody>\n",
       "    <tr>\n",
       "      <th>0</th>\n",
       "      <td>1111</td>\n",
       "      <td>22.700000</td>\n",
       "      <td>37.200</td>\n",
       "      <td>21.000000</td>\n",
       "      <td>38.000000</td>\n",
       "      <td>23.390000</td>\n",
       "      <td>37.290000</td>\n",
       "      <td>22.832857</td>\n",
       "      <td>34.942857</td>\n",
       "      <td>20.500000</td>\n",
       "      <td>...</td>\n",
       "      <td>22.700000</td>\n",
       "      <td>45.360000</td>\n",
       "      <td>20.20</td>\n",
       "      <td>38.663333</td>\n",
       "      <td>12.80</td>\n",
       "      <td>760.050000</td>\n",
       "      <td>62.000000</td>\n",
       "      <td>3.5</td>\n",
       "      <td>28.0</td>\n",
       "      <td>5.65</td>\n",
       "    </tr>\n",
       "    <tr>\n",
       "      <th>1</th>\n",
       "      <td>1112</td>\n",
       "      <td>21.500000</td>\n",
       "      <td>41.045</td>\n",
       "      <td>20.500000</td>\n",
       "      <td>39.133333</td>\n",
       "      <td>22.926667</td>\n",
       "      <td>39.526667</td>\n",
       "      <td>21.700000</td>\n",
       "      <td>34.126667</td>\n",
       "      <td>18.633333</td>\n",
       "      <td>...</td>\n",
       "      <td>22.926667</td>\n",
       "      <td>34.663333</td>\n",
       "      <td>19.73</td>\n",
       "      <td>37.933333</td>\n",
       "      <td>8.47</td>\n",
       "      <td>764.166667</td>\n",
       "      <td>48.166667</td>\n",
       "      <td>8.0</td>\n",
       "      <td>26.5</td>\n",
       "      <td>-1.92</td>\n",
       "    </tr>\n",
       "    <tr>\n",
       "      <th>2</th>\n",
       "      <td>1113</td>\n",
       "      <td>21.666667</td>\n",
       "      <td>38.000</td>\n",
       "      <td>22.600000</td>\n",
       "      <td>35.700000</td>\n",
       "      <td>21.890000</td>\n",
       "      <td>36.590000</td>\n",
       "      <td>22.000000</td>\n",
       "      <td>35.530000</td>\n",
       "      <td>19.000000</td>\n",
       "      <td>...</td>\n",
       "      <td>21.890000</td>\n",
       "      <td>38.545000</td>\n",
       "      <td>19.79</td>\n",
       "      <td>39.430000</td>\n",
       "      <td>10.60</td>\n",
       "      <td>757.600000</td>\n",
       "      <td>57.000000</td>\n",
       "      <td>2.0</td>\n",
       "      <td>27.0</td>\n",
       "      <td>2.40</td>\n",
       "    </tr>\n",
       "    <tr>\n",
       "      <th>3</th>\n",
       "      <td>1114</td>\n",
       "      <td>23.290000</td>\n",
       "      <td>38.530</td>\n",
       "      <td>21.671429</td>\n",
       "      <td>38.000000</td>\n",
       "      <td>24.290000</td>\n",
       "      <td>36.200000</td>\n",
       "      <td>23.100000</td>\n",
       "      <td>35.090000</td>\n",
       "      <td>22.042857</td>\n",
       "      <td>...</td>\n",
       "      <td>24.890000</td>\n",
       "      <td>38.600000</td>\n",
       "      <td>22.60</td>\n",
       "      <td>36.194286</td>\n",
       "      <td>11.60</td>\n",
       "      <td>760.600000</td>\n",
       "      <td>63.000000</td>\n",
       "      <td>1.0</td>\n",
       "      <td>40.0</td>\n",
       "      <td>4.67</td>\n",
       "    </tr>\n",
       "    <tr>\n",
       "      <th>4</th>\n",
       "      <td>1115</td>\n",
       "      <td>24.000000</td>\n",
       "      <td>42.560</td>\n",
       "      <td>26.830000</td>\n",
       "      <td>34.356000</td>\n",
       "      <td>26.530000</td>\n",
       "      <td>40.333333</td>\n",
       "      <td>24.500000</td>\n",
       "      <td>40.900000</td>\n",
       "      <td>21.500000</td>\n",
       "      <td>...</td>\n",
       "      <td>23.390000</td>\n",
       "      <td>44.230000</td>\n",
       "      <td>22.60</td>\n",
       "      <td>44.090000</td>\n",
       "      <td>17.70</td>\n",
       "      <td>756.983333</td>\n",
       "      <td>63.000000</td>\n",
       "      <td>1.0</td>\n",
       "      <td>21.5</td>\n",
       "      <td>10.40</td>\n",
       "    </tr>\n",
       "  </tbody>\n",
       "</table>\n",
       "<p>5 rows × 25 columns</p>\n",
       "</div>"
      ],
      "text/plain": [
       "   Observation         T1    RH_1         T2       RH_2         T3       RH_3  \\\n",
       "0         1111  22.700000  37.200  21.000000  38.000000  23.390000  37.290000   \n",
       "1         1112  21.500000  41.045  20.500000  39.133333  22.926667  39.526667   \n",
       "2         1113  21.666667  38.000  22.600000  35.700000  21.890000  36.590000   \n",
       "3         1114  23.290000  38.530  21.671429  38.000000  24.290000  36.200000   \n",
       "4         1115  24.000000  42.560  26.830000  34.356000  26.530000  40.333333   \n",
       "\n",
       "          T4       RH_4         T5    ...             T8       RH_8     T9  \\\n",
       "0  22.832857  34.942857  20.500000    ...      22.700000  45.360000  20.20   \n",
       "1  21.700000  34.126667  18.633333    ...      22.926667  34.663333  19.73   \n",
       "2  22.000000  35.530000  19.000000    ...      21.890000  38.545000  19.79   \n",
       "3  23.100000  35.090000  22.042857    ...      24.890000  38.600000  22.60   \n",
       "4  24.500000  40.900000  21.500000    ...      23.390000  44.230000  22.60   \n",
       "\n",
       "        RH_9  T_out  Press_mm_hg     RH_out  Windspeed  Visibility  Tdewpoint  \n",
       "0  38.663333  12.80   760.050000  62.000000        3.5        28.0       5.65  \n",
       "1  37.933333   8.47   764.166667  48.166667        8.0        26.5      -1.92  \n",
       "2  39.430000  10.60   757.600000  57.000000        2.0        27.0       2.40  \n",
       "3  36.194286  11.60   760.600000  63.000000        1.0        40.0       4.67  \n",
       "4  44.090000  17.70   756.983333  63.000000        1.0        21.5      10.40  \n",
       "\n",
       "[5 rows x 25 columns]"
      ]
     },
     "execution_count": 5,
     "metadata": {},
     "output_type": "execute_result"
    }
   ],
   "source": [
    "X_train.head()"
   ]
  },
  {
   "cell_type": "code",
   "execution_count": 16,
   "metadata": {
    "collapsed": true
   },
   "outputs": [],
   "source": [
    "x_test=df2[['Observation', 'T1', 'RH_1', 'T2', 'RH_2', 'T3', 'RH_3', 'T4', 'RH_4',\n",
    "       'T5', 'RH_5', 'T6', 'RH_6', 'T7', 'RH_7', 'T8', 'RH_8', 'T9', 'RH_9',\n",
    "       'T_out', 'Press_mm_hg', 'RH_out', 'Windspeed', 'Visibility',\n",
    "       'Tdewpoint']]"
   ]
  },
  {
   "cell_type": "code",
   "execution_count": 17,
   "metadata": {
    "collapsed": true
   },
   "outputs": [],
   "source": [
    "from sklearn.ensemble import RandomForestRegressor"
   ]
  },
  {
   "cell_type": "code",
   "execution_count": 18,
   "metadata": {
    "collapsed": true
   },
   "outputs": [],
   "source": [
    "model=RandomForestRegressor(n_estimators=200,max_features='log2')"
   ]
  },
  {
   "cell_type": "code",
   "execution_count": 19,
   "metadata": {},
   "outputs": [
    {
     "data": {
      "text/plain": [
       "RandomForestRegressor(bootstrap=True, criterion='mse', max_depth=None,\n",
       "           max_features='log2', max_leaf_nodes=None,\n",
       "           min_impurity_decrease=0.0, min_impurity_split=None,\n",
       "           min_samples_leaf=1, min_samples_split=2,\n",
       "           min_weight_fraction_leaf=0.0, n_estimators=200, n_jobs=1,\n",
       "           oob_score=False, random_state=None, verbose=0, warm_start=False)"
      ]
     },
     "execution_count": 19,
     "metadata": {},
     "output_type": "execute_result"
    }
   ],
   "source": [
    "model.fit(X_train, Y_train)"
   ]
  },
  {
   "cell_type": "code",
   "execution_count": 20,
   "metadata": {
    "collapsed": true
   },
   "outputs": [],
   "source": [
    "predictions=model.predict(x_test)"
   ]
  },
  {
   "cell_type": "code",
   "execution_count": 26,
   "metadata": {
    "collapsed": true
   },
   "outputs": [],
   "source": [
    "final_result = pd.DataFrame({'Observation' : x_test['Observation'],'Energy': predictions})\n",
    "final_result.to_csv('resultanatata.csv')"
   ]
  },
  {
   "cell_type": "code",
   "execution_count": null,
   "metadata": {
    "collapsed": true
   },
   "outputs": [],
   "source": []
  },
  {
   "cell_type": "code",
   "execution_count": null,
   "metadata": {
    "collapsed": true
   },
   "outputs": [],
   "source": []
  }
 ],
 "metadata": {
  "kernelspec": {
   "display_name": "Python 3",
   "language": "python",
   "name": "python3"
  },
  "language_info": {
   "codemirror_mode": {
    "name": "ipython",
    "version": 3
   },
   "file_extension": ".py",
   "mimetype": "text/x-python",
   "name": "python",
   "nbconvert_exporter": "python",
   "pygments_lexer": "ipython3",
   "version": "3.6.3"
  }
 },
 "nbformat": 4,
 "nbformat_minor": 2
}
